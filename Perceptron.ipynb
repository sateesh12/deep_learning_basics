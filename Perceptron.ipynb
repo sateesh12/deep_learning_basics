{
 "cells": [
  {
   "cell_type": "code",
   "execution_count": null,
   "metadata": {},
   "outputs": [],
   "source": [
    "#This is the first Neural Network program without using any of the framework.\n",
    "#This example is inspired from https://towardsdatascience.com/first-neural-network-for-beginners-explained-with-code-4cfd37e06eaf"
   ]
  },
  {
   "cell_type": "code",
   "execution_count": 1,
   "metadata": {},
   "outputs": [],
   "source": [
    "#Include libs\n",
    "import numpy , random, os\n",
    "lr = 1 #Learning rate\n",
    "bias = 1 #Bias value\n",
    "weights = [random.random(), random.random(),random.random()]\n"
   ]
  },
  {
   "cell_type": "code",
   "execution_count": 2,
   "metadata": {},
   "outputs": [],
   "source": [
    "#Define a function which is a Perceptron\n",
    "def perceptron(input1,input2,output):\n",
    "    outputP = input1*weights[0] + input2*weights[1] + bias*weights[2]\n",
    "    if outputP > 0:\n",
    "        outputP = 1\n",
    "    else:\n",
    "        outputP = 0\n",
    "    error = output - outputP\n",
    "    weights[0] += error * input1 *lr\n",
    "    weights[1] += error * input2 *lr\n",
    "    weights[2] += error * bias *lr"
   ]
  },
  {
   "cell_type": "code",
   "execution_count": 15,
   "metadata": {},
   "outputs": [
    {
     "name": "stdout",
     "output_type": "stream",
     "text": [
      "Weigths after training: 1.5108906142597618 1.5277319887400633 -0.752934964711053\n"
     ]
    }
   ],
   "source": [
    "#This is the training phase of perceprton\n",
    "for i in range(50):\n",
    "    perceptron(0,0,0)\n",
    "    perceptron(0,1,1)\n",
    "    perceptron(1,0,1)\n",
    "\n",
    "print(\"Weigths after training:\", weights[0],weights[1],weights[2])    "
   ]
  },
  {
   "cell_type": "code",
   "execution_count": 16,
   "metadata": {},
   "outputs": [],
   "source": [
    "def use_perceprton(x,y):\n",
    "    outputP = x*weights[0] + y*weights[1] + bias*weights[2]\n",
    "    if outputP > 0 : #activation function\n",
    "       outputP = 1\n",
    "    else :\n",
    "       outputP = 0\n",
    "    print(x, \"or\", y, \"is : \", outputP)"
   ]
  },
  {
   "cell_type": "code",
   "execution_count": 17,
   "metadata": {},
   "outputs": [
    {
     "name": "stdout",
     "output_type": "stream",
     "text": [
      "0 or 0 is :  0\n"
     ]
    }
   ],
   "source": [
    "use_perceprton(0,0)"
   ]
  },
  {
   "cell_type": "code",
   "execution_count": null,
   "metadata": {},
   "outputs": [],
   "source": []
  }
 ],
 "metadata": {
  "kernelspec": {
   "display_name": "Python 3",
   "language": "python",
   "name": "python3"
  },
  "language_info": {
   "codemirror_mode": {
    "name": "ipython",
    "version": 3
   },
   "file_extension": ".py",
   "mimetype": "text/x-python",
   "name": "python",
   "nbconvert_exporter": "python",
   "pygments_lexer": "ipython3",
   "version": "3.7.7"
  }
 },
 "nbformat": 4,
 "nbformat_minor": 4
}
