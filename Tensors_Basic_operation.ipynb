{
  "nbformat": 4,
  "nbformat_minor": 0,
  "metadata": {
    "colab": {
      "name": "Tensor_.ipynb",
      "provenance": [],
      "authorship_tag": "ABX9TyNZCuPiwN6WCV6BewqDuE+E",
      "include_colab_link": true
    },
    "kernelspec": {
      "name": "python3",
      "display_name": "Python 3"
    }
  },
  "cells": [
    {
      "cell_type": "markdown",
      "metadata": {
        "id": "view-in-github",
        "colab_type": "text"
      },
      "source": [
        "<a href=\"https://colab.research.google.com/github/sateesh12/deep_learning_basics/blob/master/Tensors_Basic_operation.ipynb\" target=\"_parent\"><img src=\"https://colab.research.google.com/assets/colab-badge.svg\" alt=\"Open In Colab\"/></a>"
      ]
    },
    {
      "cell_type": "code",
      "metadata": {
        "id": "j24w-cBju1H8",
        "colab_type": "code",
        "colab": {}
      },
      "source": [
        "#Author : Sateesh\n",
        "# Date  : 18/June/2020\n",
        "#Purpose : Simple operations of tensors"
      ],
      "execution_count": null,
      "outputs": []
    },
    {
      "cell_type": "code",
      "metadata": {
        "id": "FCouLqMfvL61",
        "colab_type": "code",
        "colab": {
          "base_uri": "https://localhost:8080/",
          "height": 34
        },
        "outputId": "a265e01c-56a0-48a6-c3ec-76c83819e4f1"
      },
      "source": [
        "import tensorflow as tf\n",
        "print(tf.__version__)"
      ],
      "execution_count": null,
      "outputs": [
        {
          "output_type": "stream",
          "text": [
            "2.2.0\n"
          ],
          "name": "stdout"
        }
      ]
    },
    {
      "cell_type": "code",
      "metadata": {
        "id": "JhcegN1rvupo",
        "colab_type": "code",
        "colab": {
          "base_uri": "https://localhost:8080/",
          "height": 34
        },
        "outputId": "28e1678d-defc-4949-94b8-d52d590d061e"
      },
      "source": [
        "#Create a tensor\n",
        "rank_0 = tf.constant(94)\n",
        "print(rank_0)"
      ],
      "execution_count": null,
      "outputs": [
        {
          "output_type": "stream",
          "text": [
            "tf.Tensor(94, shape=(), dtype=int32)\n"
          ],
          "name": "stdout"
        }
      ]
    },
    {
      "cell_type": "code",
      "metadata": {
        "id": "Ks0WUjhuxCwO",
        "colab_type": "code",
        "colab": {
          "base_uri": "https://localhost:8080/",
          "height": 34
        },
        "outputId": "87d0ddb2-2f5a-4837-f50a-5ab3367d7c27"
      },
      "source": [
        "#Rank-1 tensor\n",
        "rank_1_1 = tf.constant([1,2,3])\n",
        "print(rank_1)"
      ],
      "execution_count": null,
      "outputs": [
        {
          "output_type": "stream",
          "text": [
            "tf.Tensor([1 2 3], shape=(3,), dtype=int32)\n"
          ],
          "name": "stdout"
        }
      ]
    },
    {
      "cell_type": "code",
      "metadata": {
        "id": "JGOGjfDlyFO8",
        "colab_type": "code",
        "colab": {
          "base_uri": "https://localhost:8080/",
          "height": 34
        },
        "outputId": "22946919-c89a-4a92-9d9e-ddf09d7860c7"
      },
      "source": [
        "#Rank-1 another tensor\n",
        "rank_1_2 = tf.constant([4,5,6])\n",
        "print(rank_1_2)"
      ],
      "execution_count": null,
      "outputs": [
        {
          "output_type": "stream",
          "text": [
            "tf.Tensor([4 5 6], shape=(3,), dtype=int32)\n"
          ],
          "name": "stdout"
        }
      ]
    },
    {
      "cell_type": "code",
      "metadata": {
        "id": "z5-pjweYyc6S",
        "colab_type": "code",
        "colab": {
          "base_uri": "https://localhost:8080/",
          "height": 34
        },
        "outputId": "2cbdf765-9e72-4ca3-8b4e-e519abc4633d"
      },
      "source": [
        "rank_1_3 = rank_1_1 + rank_1_2\n",
        "print(rank_1_3)"
      ],
      "execution_count": null,
      "outputs": [
        {
          "output_type": "stream",
          "text": [
            "tf.Tensor([5 7 9], shape=(3,), dtype=int32)\n"
          ],
          "name": "stdout"
        }
      ]
    },
    {
      "cell_type": "code",
      "metadata": {
        "id": "dsTxDT_DypSM",
        "colab_type": "code",
        "colab": {
          "base_uri": "https://localhost:8080/",
          "height": 85
        },
        "outputId": "5170442e-76a7-423b-b3d6-bcdc67e45a33"
      },
      "source": [
        "m1 = tf.constant([[1,2,3],\n",
        "                 [4,5,6],\n",
        "                 [7,8,9]])\n",
        "print(m1)"
      ],
      "execution_count": null,
      "outputs": [
        {
          "output_type": "stream",
          "text": [
            "tf.Tensor(\n",
            "[[1 2 3]\n",
            " [4 5 6]\n",
            " [7 8 9]], shape=(3, 3), dtype=int32)\n"
          ],
          "name": "stdout"
        }
      ]
    },
    {
      "cell_type": "code",
      "metadata": {
        "id": "UfqVJCzYzrpD",
        "colab_type": "code",
        "colab": {
          "base_uri": "https://localhost:8080/",
          "height": 85
        },
        "outputId": "0250d977-9b4c-4c73-8823-a740edb94a50"
      },
      "source": [
        "m2 = tf.constant([[1,0,0],\n",
        "                  [0,1,0],\n",
        "                  [0,0,1]])\n",
        "print(m2)"
      ],
      "execution_count": null,
      "outputs": [
        {
          "output_type": "stream",
          "text": [
            "tf.Tensor(\n",
            "[[1 0 0]\n",
            " [0 1 0]\n",
            " [0 0 1]], shape=(3, 3), dtype=int32)\n"
          ],
          "name": "stdout"
        }
      ]
    },
    {
      "cell_type": "code",
      "metadata": {
        "id": "s9T5osQP0dfs",
        "colab_type": "code",
        "colab": {
          "base_uri": "https://localhost:8080/",
          "height": 85
        },
        "outputId": "1cdc28c8-58e7-4054-ec68-1b1ef0b6a5b1"
      },
      "source": [
        "m3 = m1 + m2\n",
        "print(m3)"
      ],
      "execution_count": null,
      "outputs": [
        {
          "output_type": "stream",
          "text": [
            "tf.Tensor(\n",
            "[[ 2  2  3]\n",
            " [ 4  6  6]\n",
            " [ 7  8 10]], shape=(3, 3), dtype=int32)\n"
          ],
          "name": "stdout"
        }
      ]
    },
    {
      "cell_type": "code",
      "metadata": {
        "id": "iP6bMtHO0gJd",
        "colab_type": "code",
        "colab": {
          "base_uri": "https://localhost:8080/",
          "height": 85
        },
        "outputId": "d76a3987-3ac4-4b67-f290-f0cdb0aed83b"
      },
      "source": [
        "m4 = m1 - m2\n",
        "print(m4)"
      ],
      "execution_count": null,
      "outputs": [
        {
          "output_type": "stream",
          "text": [
            "tf.Tensor(\n",
            "[[0 2 3]\n",
            " [4 4 6]\n",
            " [7 8 8]], shape=(3, 3), dtype=int32)\n"
          ],
          "name": "stdout"
        }
      ]
    },
    {
      "cell_type": "code",
      "metadata": {
        "id": "NWnMtQxO0sT1",
        "colab_type": "code",
        "colab": {
          "base_uri": "https://localhost:8080/",
          "height": 153
        },
        "outputId": "be5bfd02-98ae-4de2-e7ac-71c571c99ddc"
      },
      "source": [
        "m7 = tf.constant([[1,1,1],\n",
        "                  [0,0,0],\n",
        "                  [0,0,0]])\n",
        "print(m7)\n",
        "\n",
        "m5 = m1 * m7\n",
        "print(m5)"
      ],
      "execution_count": null,
      "outputs": [
        {
          "output_type": "stream",
          "text": [
            "tf.Tensor(\n",
            "[[1 1 1]\n",
            " [0 0 0]\n",
            " [0 0 0]], shape=(3, 3), dtype=int32)\n",
            "tf.Tensor(\n",
            "[[1 2 3]\n",
            " [0 0 0]\n",
            " [0 0 0]], shape=(3, 3), dtype=int32)\n"
          ],
          "name": "stdout"
        }
      ]
    },
    {
      "cell_type": "code",
      "metadata": {
        "id": "CQ3y7cbh2Kiy",
        "colab_type": "code",
        "colab": {
          "base_uri": "https://localhost:8080/",
          "height": 85
        },
        "outputId": "8917a4f1-5d05-419b-b25c-aa0fc6dd21e6"
      },
      "source": [
        "m6 = tf.matmul(m1,m2)\n",
        "print(m6)"
      ],
      "execution_count": null,
      "outputs": [
        {
          "output_type": "stream",
          "text": [
            "tf.Tensor(\n",
            "[[1 2 3]\n",
            " [4 5 6]\n",
            " [7 8 9]], shape=(3, 3), dtype=int32)\n"
          ],
          "name": "stdout"
        }
      ]
    },
    {
      "cell_type": "code",
      "metadata": {
        "id": "q3mj3RVC5UqP",
        "colab_type": "code",
        "colab": {}
      },
      "source": [
        ""
      ],
      "execution_count": null,
      "outputs": []
    }
  ]
}