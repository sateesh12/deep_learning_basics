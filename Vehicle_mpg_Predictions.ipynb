{
  "nbformat": 4,
  "nbformat_minor": 0,
  "metadata": {
    "colab": {
      "name": "Vehicle_mpg_Predictions.ipynb",
      "provenance": [],
      "collapsed_sections": [],
      "authorship_tag": "ABX9TyP1n2fH0gW9plbF+uEP3oj2",
      "include_colab_link": true
    },
    "kernelspec": {
      "name": "python3",
      "display_name": "Python 3"
    }
  },
  "cells": [
    {
      "cell_type": "markdown",
      "metadata": {
        "id": "view-in-github",
        "colab_type": "text"
      },
      "source": [
        "<a href=\"https://colab.research.google.com/github/sateesh12/deep_learning_basics/blob/master/Vehicle_mpg_Predictions.ipynb\" target=\"_parent\"><img src=\"https://colab.research.google.com/assets/colab-badge.svg\" alt=\"Open In Colab\"/></a>"
      ]
    },
    {
      "cell_type": "code",
      "metadata": {
        "id": "oKFO_GrI4DJi",
        "colab_type": "code",
        "colab": {}
      },
      "source": [
        "#This is an example code to learn how to use Keras to predict vehicle mileage"
      ],
      "execution_count": 1,
      "outputs": []
    },
    {
      "cell_type": "code",
      "metadata": {
        "id": "Q9uKaqIk4QkF",
        "colab_type": "code",
        "colab": {
          "base_uri": "https://localhost:8080/",
          "height": 34
        },
        "outputId": "cc05b0f9-52a4-48ae-e18a-e0eb673dbd0d"
      },
      "source": [
        "#Check tensor flow version and esnure that it is 2.x\n",
        "import tensorflow as tf\n",
        "print(tf.__version__)"
      ],
      "execution_count": 2,
      "outputs": [
        {
          "output_type": "stream",
          "text": [
            "2.2.0\n"
          ],
          "name": "stdout"
        }
      ]
    },
    {
      "cell_type": "code",
      "metadata": {
        "id": "voZcFNN74Yo4",
        "colab_type": "code",
        "colab": {
          "base_uri": "https://localhost:8080/",
          "height": 71
        },
        "outputId": "38485dd8-8181-4180-cd96-030b3b07f73d"
      },
      "source": [
        "#Import libraries\n",
        "import pathlib\n",
        "import seaborn as sns\n",
        "import pandas as pd\n",
        "import matplotlib.pyplot as plt"
      ],
      "execution_count": 3,
      "outputs": [
        {
          "output_type": "stream",
          "text": [
            "/usr/local/lib/python3.6/dist-packages/statsmodels/tools/_testing.py:19: FutureWarning: pandas.util.testing is deprecated. Use the functions in the public API at pandas.testing instead.\n",
            "  import pandas.util.testing as tm\n"
          ],
          "name": "stderr"
        }
      ]
    },
    {
      "cell_type": "code",
      "metadata": {
        "id": "2lnePSve4jjv",
        "colab_type": "code",
        "colab": {
          "base_uri": "https://localhost:8080/",
          "height": 51
        },
        "outputId": "17427cfc-7a64-44a8-f3dd-849ff26f999e"
      },
      "source": [
        "#Import the Vehicle mpg data-set into the colab directory\n",
        "#Details about the fields in the data set is at https://archive.ics.uci.edu/ml/datasets/Auto%2BMPG\n",
        "dataset_file = tf.keras.utils.get_file(\"auto-mpg.data-original\", \"http://archive.ics.uci.edu/ml/machine-learning-databases/auto-mpg/auto-mpg.data-original\")\n"
      ],
      "execution_count": 4,
      "outputs": [
        {
          "output_type": "stream",
          "text": [
            "Downloading data from http://archive.ics.uci.edu/ml/machine-learning-databases/auto-mpg/auto-mpg.data-original\n",
            "32768/32149 [==============================] - 0s 4us/step\n"
          ],
          "name": "stdout"
        }
      ]
    },
    {
      "cell_type": "code",
      "metadata": {
        "id": "C2BV5BSP4-SK",
        "colab_type": "code",
        "colab": {
          "base_uri": "https://localhost:8080/",
          "height": 34
        },
        "outputId": "90aa2ebe-ef04-4fc7-da48-a1db04d40669"
      },
      "source": [
        "#Check the path of where the data is downloaded.\n",
        "dataset_file"
      ],
      "execution_count": 5,
      "outputs": [
        {
          "output_type": "execute_result",
          "data": {
            "text/plain": [
              "'/root/.keras/datasets/auto-mpg.data-original'"
            ]
          },
          "metadata": {
            "tags": []
          },
          "execution_count": 5
        }
      ]
    },
    {
      "cell_type": "code",
      "metadata": {
        "id": "xzD0CwNL5HlX",
        "colab_type": "code",
        "colab": {
          "base_uri": "https://localhost:8080/",
          "height": 34
        },
        "outputId": "15ca7ec0-4f41-4d31-eb63-615d5abbe7ad"
      },
      "source": [
        "#Label the data-set with following column names\n",
        "column_name = ['mpg','cylinders','displacement','hp','weight','acceleration','MY','country_of_origin']\n",
        "print(column_name)"
      ],
      "execution_count": 6,
      "outputs": [
        {
          "output_type": "stream",
          "text": [
            "['mpg', 'cylinders', 'displacement', 'hp', 'weight', 'acceleration', 'MY', 'country_of_origin']\n"
          ],
          "name": "stdout"
        }
      ]
    },
    {
      "cell_type": "code",
      "metadata": {
        "id": "b50UYSWr5Tph",
        "colab_type": "code",
        "colab": {}
      },
      "source": [
        "dataset_V1 = pd.read_csv(dataset_file)"
      ],
      "execution_count": 15,
      "outputs": []
    },
    {
      "cell_type": "code",
      "metadata": {
        "id": "7h44OCAT6M4j",
        "colab_type": "code",
        "colab": {
          "base_uri": "https://localhost:8080/",
          "height": 204
        },
        "outputId": "1ec5a592-346c-4c39-90e0-2c75d496f4e2"
      },
      "source": [
        "dataset_V1.head()\n",
        "#As can be seen from the below o/p\n",
        "#1. The data-set does not have column names\n",
        "#2. The data set is space seperated\n",
        "#3. The data-set has mutiple spaces as delimiter.\n",
        "#4. The last column starts with a tab character"
      ],
      "execution_count": 31,
      "outputs": [
        {
          "output_type": "execute_result",
          "data": {
            "text/html": [
              "<div>\n",
              "<style scoped>\n",
              "    .dataframe tbody tr th:only-of-type {\n",
              "        vertical-align: middle;\n",
              "    }\n",
              "\n",
              "    .dataframe tbody tr th {\n",
              "        vertical-align: top;\n",
              "    }\n",
              "\n",
              "    .dataframe thead th {\n",
              "        text-align: right;\n",
              "    }\n",
              "</style>\n",
              "<table border=\"1\" class=\"dataframe\">\n",
              "  <thead>\n",
              "    <tr style=\"text-align: right;\">\n",
              "      <th></th>\n",
              "      <th>18.0   8.   307.0      130.0      3504.      12.0   70.  1.\\t\"chevrolet chevelle malibu\"</th>\n",
              "    </tr>\n",
              "  </thead>\n",
              "  <tbody>\n",
              "    <tr>\n",
              "      <th>0</th>\n",
              "      <td>15.0   8.   350.0      165.0      3693.      1...</td>\n",
              "    </tr>\n",
              "    <tr>\n",
              "      <th>1</th>\n",
              "      <td>18.0   8.   318.0      150.0      3436.      1...</td>\n",
              "    </tr>\n",
              "    <tr>\n",
              "      <th>2</th>\n",
              "      <td>16.0   8.   304.0      150.0      3433.      1...</td>\n",
              "    </tr>\n",
              "    <tr>\n",
              "      <th>3</th>\n",
              "      <td>17.0   8.   302.0      140.0      3449.      1...</td>\n",
              "    </tr>\n",
              "    <tr>\n",
              "      <th>4</th>\n",
              "      <td>15.0   8.   429.0      198.0      4341.      1...</td>\n",
              "    </tr>\n",
              "  </tbody>\n",
              "</table>\n",
              "</div>"
            ],
            "text/plain": [
              "  18.0   8.   307.0      130.0      3504.      12.0   70.  1.\\t\"chevrolet chevelle malibu\"\n",
              "0  15.0   8.   350.0      165.0      3693.      1...                                      \n",
              "1  18.0   8.   318.0      150.0      3436.      1...                                      \n",
              "2  16.0   8.   304.0      150.0      3433.      1...                                      \n",
              "3  17.0   8.   302.0      140.0      3449.      1...                                      \n",
              "4  15.0   8.   429.0      198.0      4341.      1...                                      "
            ]
          },
          "metadata": {
            "tags": []
          },
          "execution_count": 31
        }
      ]
    },
    {
      "cell_type": "code",
      "metadata": {
        "id": "k_3j_hoG6VD2",
        "colab_type": "code",
        "colab": {
          "base_uri": "https://localhost:8080/",
          "height": 255
        },
        "outputId": "53f87431-aeb4-481f-95b5-6984655c1275"
      },
      "source": [
        "#The dataset does not have any lables, so add labels to the Pandas data-frame\n",
        "#Data is as follows\n",
        "#<value1><b><b><b><value2> with columns not being named.\n",
        "dataset_V2 = pd.read_csv(dataset_file,\n",
        "                         names=column_name,\n",
        "                         na_values = \"?\",   #Treat ? also as a NaN\n",
        "                         sep=\" \"       ,    # Use space as de-limited between columns\n",
        "                         skipinitialspace = True, #Ignore space after first delmiter value => x <space><space><space> y, take only first space\n",
        "                         comment='\\t'       #Ignore everything after a tab.\n",
        "                        )\n",
        "                      \n",
        "dataset_V2.info"
      ],
      "execution_count": 35,
      "outputs": [
        {
          "output_type": "execute_result",
          "data": {
            "text/plain": [
              "<bound method DataFrame.info of       mpg  cylinders  displacement  ...  acceleration    MY  country_of_origin\n",
              "0    18.0        8.0         307.0  ...          12.0  70.0                1.0\n",
              "1    15.0        8.0         350.0  ...          11.5  70.0                1.0\n",
              "2    18.0        8.0         318.0  ...          11.0  70.0                1.0\n",
              "3    16.0        8.0         304.0  ...          12.0  70.0                1.0\n",
              "4    17.0        8.0         302.0  ...          10.5  70.0                1.0\n",
              "..    ...        ...           ...  ...           ...   ...                ...\n",
              "401  27.0        4.0         140.0  ...          15.6  82.0                1.0\n",
              "402  44.0        4.0          97.0  ...          24.6  82.0                2.0\n",
              "403  32.0        4.0         135.0  ...          11.6  82.0                1.0\n",
              "404  28.0        4.0         120.0  ...          18.6  82.0                1.0\n",
              "405  31.0        4.0         119.0  ...          19.4  82.0                1.0\n",
              "\n",
              "[406 rows x 8 columns]>"
            ]
          },
          "metadata": {
            "tags": []
          },
          "execution_count": 35
        }
      ]
    },
    {
      "cell_type": "code",
      "metadata": {
        "id": "11XUB6iG7lZ3",
        "colab_type": "code",
        "colab": {
          "base_uri": "https://localhost:8080/",
          "height": 272
        },
        "outputId": "2bc9e7e8-3097-4a33-affb-2b54ad8923f9"
      },
      "source": [
        "dataset_V2.info()"
      ],
      "execution_count": 36,
      "outputs": [
        {
          "output_type": "stream",
          "text": [
            "<class 'pandas.core.frame.DataFrame'>\n",
            "RangeIndex: 406 entries, 0 to 405\n",
            "Data columns (total 8 columns):\n",
            " #   Column             Non-Null Count  Dtype  \n",
            "---  ------             --------------  -----  \n",
            " 0   mpg                398 non-null    float64\n",
            " 1   cylinders          406 non-null    float64\n",
            " 2   displacement       406 non-null    float64\n",
            " 3   hp                 400 non-null    float64\n",
            " 4   weight             406 non-null    float64\n",
            " 5   acceleration       406 non-null    float64\n",
            " 6   MY                 406 non-null    float64\n",
            " 7   country_of_origin  406 non-null    float64\n",
            "dtypes: float64(8)\n",
            "memory usage: 25.5 KB\n"
          ],
          "name": "stdout"
        }
      ]
    },
    {
      "cell_type": "code",
      "metadata": {
        "id": "nEqlSJB27sQQ",
        "colab_type": "code",
        "colab": {
          "base_uri": "https://localhost:8080/",
          "height": 204
        },
        "outputId": "e63f4c47-c62b-481d-86a9-abda0fd8b096"
      },
      "source": [
        "#Check if column name and data are aligned\n",
        "dataset_V2.head()\n",
        "#As can be seen, now the "
      ],
      "execution_count": 37,
      "outputs": [
        {
          "output_type": "execute_result",
          "data": {
            "text/html": [
              "<div>\n",
              "<style scoped>\n",
              "    .dataframe tbody tr th:only-of-type {\n",
              "        vertical-align: middle;\n",
              "    }\n",
              "\n",
              "    .dataframe tbody tr th {\n",
              "        vertical-align: top;\n",
              "    }\n",
              "\n",
              "    .dataframe thead th {\n",
              "        text-align: right;\n",
              "    }\n",
              "</style>\n",
              "<table border=\"1\" class=\"dataframe\">\n",
              "  <thead>\n",
              "    <tr style=\"text-align: right;\">\n",
              "      <th></th>\n",
              "      <th>mpg</th>\n",
              "      <th>cylinders</th>\n",
              "      <th>displacement</th>\n",
              "      <th>hp</th>\n",
              "      <th>weight</th>\n",
              "      <th>acceleration</th>\n",
              "      <th>MY</th>\n",
              "      <th>country_of_origin</th>\n",
              "    </tr>\n",
              "  </thead>\n",
              "  <tbody>\n",
              "    <tr>\n",
              "      <th>0</th>\n",
              "      <td>18.0</td>\n",
              "      <td>8.0</td>\n",
              "      <td>307.0</td>\n",
              "      <td>130.0</td>\n",
              "      <td>3504.0</td>\n",
              "      <td>12.0</td>\n",
              "      <td>70.0</td>\n",
              "      <td>1.0</td>\n",
              "    </tr>\n",
              "    <tr>\n",
              "      <th>1</th>\n",
              "      <td>15.0</td>\n",
              "      <td>8.0</td>\n",
              "      <td>350.0</td>\n",
              "      <td>165.0</td>\n",
              "      <td>3693.0</td>\n",
              "      <td>11.5</td>\n",
              "      <td>70.0</td>\n",
              "      <td>1.0</td>\n",
              "    </tr>\n",
              "    <tr>\n",
              "      <th>2</th>\n",
              "      <td>18.0</td>\n",
              "      <td>8.0</td>\n",
              "      <td>318.0</td>\n",
              "      <td>150.0</td>\n",
              "      <td>3436.0</td>\n",
              "      <td>11.0</td>\n",
              "      <td>70.0</td>\n",
              "      <td>1.0</td>\n",
              "    </tr>\n",
              "    <tr>\n",
              "      <th>3</th>\n",
              "      <td>16.0</td>\n",
              "      <td>8.0</td>\n",
              "      <td>304.0</td>\n",
              "      <td>150.0</td>\n",
              "      <td>3433.0</td>\n",
              "      <td>12.0</td>\n",
              "      <td>70.0</td>\n",
              "      <td>1.0</td>\n",
              "    </tr>\n",
              "    <tr>\n",
              "      <th>4</th>\n",
              "      <td>17.0</td>\n",
              "      <td>8.0</td>\n",
              "      <td>302.0</td>\n",
              "      <td>140.0</td>\n",
              "      <td>3449.0</td>\n",
              "      <td>10.5</td>\n",
              "      <td>70.0</td>\n",
              "      <td>1.0</td>\n",
              "    </tr>\n",
              "  </tbody>\n",
              "</table>\n",
              "</div>"
            ],
            "text/plain": [
              "    mpg  cylinders  displacement  ...  acceleration    MY  country_of_origin\n",
              "0  18.0        8.0         307.0  ...          12.0  70.0                1.0\n",
              "1  15.0        8.0         350.0  ...          11.5  70.0                1.0\n",
              "2  18.0        8.0         318.0  ...          11.0  70.0                1.0\n",
              "3  16.0        8.0         304.0  ...          12.0  70.0                1.0\n",
              "4  17.0        8.0         302.0  ...          10.5  70.0                1.0\n",
              "\n",
              "[5 rows x 8 columns]"
            ]
          },
          "metadata": {
            "tags": []
          },
          "execution_count": 37
        }
      ]
    },
    {
      "cell_type": "code",
      "metadata": {
        "id": "zZhWO5LEKjcI",
        "colab_type": "code",
        "colab": {
          "base_uri": "https://localhost:8080/",
          "height": 170
        },
        "outputId": "ecae5477-aec1-40b7-cfa8-e5f15c56c603"
      },
      "source": [
        "#Identify the missing values\n",
        "dataset_V2.isna().sum()"
      ],
      "execution_count": 40,
      "outputs": [
        {
          "output_type": "execute_result",
          "data": {
            "text/plain": [
              "mpg                  8\n",
              "cylinders            0\n",
              "displacement         0\n",
              "hp                   6\n",
              "weight               0\n",
              "acceleration         0\n",
              "MY                   0\n",
              "country_of_origin    0\n",
              "dtype: int64"
            ]
          },
          "metadata": {
            "tags": []
          },
          "execution_count": 40
        }
      ]
    },
    {
      "cell_type": "code",
      "metadata": {
        "id": "hR6ETin05WOy",
        "colab_type": "code",
        "colab": {}
      },
      "source": [
        "dataset_V3 = dataset_V2.dropna()"
      ],
      "execution_count": 41,
      "outputs": []
    },
    {
      "cell_type": "code",
      "metadata": {
        "id": "gDPpF_tA5hqk",
        "colab_type": "code",
        "colab": {
          "base_uri": "https://localhost:8080/",
          "height": 170
        },
        "outputId": "915a6086-47ca-4615-c009-d6ffaf447411"
      },
      "source": [
        "#Check if all NaN are gone\n",
        "dataset_V3.isna().sum()"
      ],
      "execution_count": 42,
      "outputs": [
        {
          "output_type": "execute_result",
          "data": {
            "text/plain": [
              "mpg                  0\n",
              "cylinders            0\n",
              "displacement         0\n",
              "hp                   0\n",
              "weight               0\n",
              "acceleration         0\n",
              "MY                   0\n",
              "country_of_origin    0\n",
              "dtype: int64"
            ]
          },
          "metadata": {
            "tags": []
          },
          "execution_count": 42
        }
      ]
    },
    {
      "cell_type": "code",
      "metadata": {
        "id": "6caysGqa5nyU",
        "colab_type": "code",
        "colab": {
          "base_uri": "https://localhost:8080/",
          "height": 764
        },
        "outputId": "f568a7f5-4831-489c-a6d5-25076600d2ea"
      },
      "source": [
        "#Plot the data to see\n",
        "sns.pairplot(dataset_V3[['mpg','weight','hp','displacement']],diag_kind='kde')"
      ],
      "execution_count": 45,
      "outputs": [
        {
          "output_type": "execute_result",
          "data": {
            "text/plain": [
              "<seaborn.axisgrid.PairGrid at 0x7fc0c7adee80>"
            ]
          },
          "metadata": {
            "tags": []
          },
          "execution_count": 45
        },
        {
          "output_type": "display_data",
          "data": {
            "image/png": "[encoded data removed]",
            "text/plain": [
              "<Figure size 720x720 with 20 Axes>"
            ]
          },
          "metadata": {
            "tags": [],
            "needs_background": "light"
          }
        }
      ]
    },
    {
      "cell_type": "code",
      "metadata": {
        "id": "ptPzopB36KgH",
        "colab_type": "code",
        "colab": {
          "base_uri": "https://localhost:8080/",
          "height": 204
        },
        "outputId": "e5763548-5856-4079-b026-0d2b17f18688"
      },
      "source": [
        "#The data-set has a categorical value of Origin\n",
        "dataset_V4 = pd.concat([dataset_V3,pd.get_dummies(dataset_V3['country_of_origin'],prefix='country_of_origin')], axis=1)\n",
        "del dataset_V4['country_of_origin']\n",
        "dataset_V4.head()"
      ],
      "execution_count": 49,
      "outputs": [
        {
          "output_type": "execute_result",
          "data": {
            "text/html": [
              "<div>\n",
              "<style scoped>\n",
              "    .dataframe tbody tr th:only-of-type {\n",
              "        vertical-align: middle;\n",
              "    }\n",
              "\n",
              "    .dataframe tbody tr th {\n",
              "        vertical-align: top;\n",
              "    }\n",
              "\n",
              "    .dataframe thead th {\n",
              "        text-align: right;\n",
              "    }\n",
              "</style>\n",
              "<table border=\"1\" class=\"dataframe\">\n",
              "  <thead>\n",
              "    <tr style=\"text-align: right;\">\n",
              "      <th></th>\n",
              "      <th>mpg</th>\n",
              "      <th>cylinders</th>\n",
              "      <th>displacement</th>\n",
              "      <th>hp</th>\n",
              "      <th>weight</th>\n",
              "      <th>acceleration</th>\n",
              "      <th>MY</th>\n",
              "      <th>country_of_origin_1.0</th>\n",
              "      <th>country_of_origin_2.0</th>\n",
              "      <th>country_of_origin_3.0</th>\n",
              "    </tr>\n",
              "  </thead>\n",
              "  <tbody>\n",
              "    <tr>\n",
              "      <th>0</th>\n",
              "      <td>18.0</td>\n",
              "      <td>8.0</td>\n",
              "      <td>307.0</td>\n",
              "      <td>130.0</td>\n",
              "      <td>3504.0</td>\n",
              "      <td>12.0</td>\n",
              "      <td>70.0</td>\n",
              "      <td>1</td>\n",
              "      <td>0</td>\n",
              "      <td>0</td>\n",
              "    </tr>\n",
              "    <tr>\n",
              "      <th>1</th>\n",
              "      <td>15.0</td>\n",
              "      <td>8.0</td>\n",
              "      <td>350.0</td>\n",
              "      <td>165.0</td>\n",
              "      <td>3693.0</td>\n",
              "      <td>11.5</td>\n",
              "      <td>70.0</td>\n",
              "      <td>1</td>\n",
              "      <td>0</td>\n",
              "      <td>0</td>\n",
              "    </tr>\n",
              "    <tr>\n",
              "      <th>2</th>\n",
              "      <td>18.0</td>\n",
              "      <td>8.0</td>\n",
              "      <td>318.0</td>\n",
              "      <td>150.0</td>\n",
              "      <td>3436.0</td>\n",
              "      <td>11.0</td>\n",
              "      <td>70.0</td>\n",
              "      <td>1</td>\n",
              "      <td>0</td>\n",
              "      <td>0</td>\n",
              "    </tr>\n",
              "    <tr>\n",
              "      <th>3</th>\n",
              "      <td>16.0</td>\n",
              "      <td>8.0</td>\n",
              "      <td>304.0</td>\n",
              "      <td>150.0</td>\n",
              "      <td>3433.0</td>\n",
              "      <td>12.0</td>\n",
              "      <td>70.0</td>\n",
              "      <td>1</td>\n",
              "      <td>0</td>\n",
              "      <td>0</td>\n",
              "    </tr>\n",
              "    <tr>\n",
              "      <th>4</th>\n",
              "      <td>17.0</td>\n",
              "      <td>8.0</td>\n",
              "      <td>302.0</td>\n",
              "      <td>140.0</td>\n",
              "      <td>3449.0</td>\n",
              "      <td>10.5</td>\n",
              "      <td>70.0</td>\n",
              "      <td>1</td>\n",
              "      <td>0</td>\n",
              "      <td>0</td>\n",
              "    </tr>\n",
              "  </tbody>\n",
              "</table>\n",
              "</div>"
            ],
            "text/plain": [
              "    mpg  cylinders  ...  country_of_origin_2.0  country_of_origin_3.0\n",
              "0  18.0        8.0  ...                      0                      0\n",
              "1  15.0        8.0  ...                      0                      0\n",
              "2  18.0        8.0  ...                      0                      0\n",
              "3  16.0        8.0  ...                      0                      0\n",
              "4  17.0        8.0  ...                      0                      0\n",
              "\n",
              "[5 rows x 10 columns]"
            ]
          },
          "metadata": {
            "tags": []
          },
          "execution_count": 49
        }
      ]
    },
    {
      "cell_type": "code",
      "metadata": {
        "id": "YfbXdgn-7EM0",
        "colab_type": "code",
        "colab": {}
      },
      "source": [
        "#Split the data into training and test\n",
        "#80% Data is for training\n",
        "dataset_V4_training = dataset_V4.sample(frac=0.8, random_state=0)\n",
        "\n",
        "#Move the remaining 20% as test data\n",
        "dataset_V4_test = dataset_V4.drop(dataset_V4_training.index)"
      ],
      "execution_count": 52,
      "outputs": []
    },
    {
      "cell_type": "code",
      "metadata": {
        "id": "UeFTSbu_8VD3",
        "colab_type": "code",
        "colab": {
          "base_uri": "https://localhost:8080/",
          "height": 204
        },
        "outputId": "a5929c96-61e3-4408-fd2c-ce6245f891f3"
      },
      "source": [
        "#Peek into training data\n",
        "dataset_V4_training.head()"
      ],
      "execution_count": 53,
      "outputs": [
        {
          "output_type": "execute_result",
          "data": {
            "text/html": [
              "<div>\n",
              "<style scoped>\n",
              "    .dataframe tbody tr th:only-of-type {\n",
              "        vertical-align: middle;\n",
              "    }\n",
              "\n",
              "    .dataframe tbody tr th {\n",
              "        vertical-align: top;\n",
              "    }\n",
              "\n",
              "    .dataframe thead th {\n",
              "        text-align: right;\n",
              "    }\n",
              "</style>\n",
              "<table border=\"1\" class=\"dataframe\">\n",
              "  <thead>\n",
              "    <tr style=\"text-align: right;\">\n",
              "      <th></th>\n",
              "      <th>mpg</th>\n",
              "      <th>cylinders</th>\n",
              "      <th>displacement</th>\n",
              "      <th>hp</th>\n",
              "      <th>weight</th>\n",
              "      <th>acceleration</th>\n",
              "      <th>MY</th>\n",
              "      <th>country_of_origin_1.0</th>\n",
              "      <th>country_of_origin_2.0</th>\n",
              "      <th>country_of_origin_3.0</th>\n",
              "    </tr>\n",
              "  </thead>\n",
              "  <tbody>\n",
              "    <tr>\n",
              "      <th>153</th>\n",
              "      <td>28.0</td>\n",
              "      <td>4.0</td>\n",
              "      <td>90.0</td>\n",
              "      <td>75.0</td>\n",
              "      <td>2125.0</td>\n",
              "      <td>14.5</td>\n",
              "      <td>74.0</td>\n",
              "      <td>1</td>\n",
              "      <td>0</td>\n",
              "      <td>0</td>\n",
              "    </tr>\n",
              "    <tr>\n",
              "      <th>289</th>\n",
              "      <td>22.3</td>\n",
              "      <td>4.0</td>\n",
              "      <td>140.0</td>\n",
              "      <td>88.0</td>\n",
              "      <td>2890.0</td>\n",
              "      <td>17.3</td>\n",
              "      <td>79.0</td>\n",
              "      <td>1</td>\n",
              "      <td>0</td>\n",
              "      <td>0</td>\n",
              "    </tr>\n",
              "    <tr>\n",
              "      <th>76</th>\n",
              "      <td>12.0</td>\n",
              "      <td>8.0</td>\n",
              "      <td>350.0</td>\n",
              "      <td>160.0</td>\n",
              "      <td>4456.0</td>\n",
              "      <td>13.5</td>\n",
              "      <td>72.0</td>\n",
              "      <td>1</td>\n",
              "      <td>0</td>\n",
              "      <td>0</td>\n",
              "    </tr>\n",
              "    <tr>\n",
              "      <th>386</th>\n",
              "      <td>38.0</td>\n",
              "      <td>4.0</td>\n",
              "      <td>105.0</td>\n",
              "      <td>63.0</td>\n",
              "      <td>2125.0</td>\n",
              "      <td>14.7</td>\n",
              "      <td>82.0</td>\n",
              "      <td>1</td>\n",
              "      <td>0</td>\n",
              "      <td>0</td>\n",
              "    </tr>\n",
              "    <tr>\n",
              "      <th>338</th>\n",
              "      <td>33.8</td>\n",
              "      <td>4.0</td>\n",
              "      <td>97.0</td>\n",
              "      <td>67.0</td>\n",
              "      <td>2145.0</td>\n",
              "      <td>18.0</td>\n",
              "      <td>80.0</td>\n",
              "      <td>0</td>\n",
              "      <td>0</td>\n",
              "      <td>1</td>\n",
              "    </tr>\n",
              "  </tbody>\n",
              "</table>\n",
              "</div>"
            ],
            "text/plain": [
              "      mpg  cylinders  ...  country_of_origin_2.0  country_of_origin_3.0\n",
              "153  28.0        4.0  ...                      0                      0\n",
              "289  22.3        4.0  ...                      0                      0\n",
              "76   12.0        8.0  ...                      0                      0\n",
              "386  38.0        4.0  ...                      0                      0\n",
              "338  33.8        4.0  ...                      0                      1\n",
              "\n",
              "[5 rows x 10 columns]"
            ]
          },
          "metadata": {
            "tags": []
          },
          "execution_count": 53
        }
      ]
    },
    {
      "cell_type": "code",
      "metadata": {
        "id": "RBRooK5p8ZHD",
        "colab_type": "code",
        "colab": {
          "base_uri": "https://localhost:8080/",
          "height": 204
        },
        "outputId": "948604ea-8423-40de-cebf-3c2ee34eae1c"
      },
      "source": [
        "#Peek into test data\n",
        "dataset_V4_test.head()"
      ],
      "execution_count": 54,
      "outputs": [
        {
          "output_type": "execute_result",
          "data": {
            "text/html": [
              "<div>\n",
              "<style scoped>\n",
              "    .dataframe tbody tr th:only-of-type {\n",
              "        vertical-align: middle;\n",
              "    }\n",
              "\n",
              "    .dataframe tbody tr th {\n",
              "        vertical-align: top;\n",
              "    }\n",
              "\n",
              "    .dataframe thead th {\n",
              "        text-align: right;\n",
              "    }\n",
              "</style>\n",
              "<table border=\"1\" class=\"dataframe\">\n",
              "  <thead>\n",
              "    <tr style=\"text-align: right;\">\n",
              "      <th></th>\n",
              "      <th>mpg</th>\n",
              "      <th>cylinders</th>\n",
              "      <th>displacement</th>\n",
              "      <th>hp</th>\n",
              "      <th>weight</th>\n",
              "      <th>acceleration</th>\n",
              "      <th>MY</th>\n",
              "      <th>country_of_origin_1.0</th>\n",
              "      <th>country_of_origin_2.0</th>\n",
              "      <th>country_of_origin_3.0</th>\n",
              "    </tr>\n",
              "  </thead>\n",
              "  <tbody>\n",
              "    <tr>\n",
              "      <th>9</th>\n",
              "      <td>15.0</td>\n",
              "      <td>8.0</td>\n",
              "      <td>390.0</td>\n",
              "      <td>190.0</td>\n",
              "      <td>3850.0</td>\n",
              "      <td>8.5</td>\n",
              "      <td>70.0</td>\n",
              "      <td>1</td>\n",
              "      <td>0</td>\n",
              "      <td>0</td>\n",
              "    </tr>\n",
              "    <tr>\n",
              "      <th>31</th>\n",
              "      <td>10.0</td>\n",
              "      <td>8.0</td>\n",
              "      <td>360.0</td>\n",
              "      <td>215.0</td>\n",
              "      <td>4615.0</td>\n",
              "      <td>14.0</td>\n",
              "      <td>70.0</td>\n",
              "      <td>1</td>\n",
              "      <td>0</td>\n",
              "      <td>0</td>\n",
              "    </tr>\n",
              "    <tr>\n",
              "      <th>34</th>\n",
              "      <td>9.0</td>\n",
              "      <td>8.0</td>\n",
              "      <td>304.0</td>\n",
              "      <td>193.0</td>\n",
              "      <td>4732.0</td>\n",
              "      <td>18.5</td>\n",
              "      <td>70.0</td>\n",
              "      <td>1</td>\n",
              "      <td>0</td>\n",
              "      <td>0</td>\n",
              "    </tr>\n",
              "    <tr>\n",
              "      <th>37</th>\n",
              "      <td>25.0</td>\n",
              "      <td>4.0</td>\n",
              "      <td>113.0</td>\n",
              "      <td>95.0</td>\n",
              "      <td>2228.0</td>\n",
              "      <td>14.0</td>\n",
              "      <td>71.0</td>\n",
              "      <td>0</td>\n",
              "      <td>0</td>\n",
              "      <td>1</td>\n",
              "    </tr>\n",
              "    <tr>\n",
              "      <th>40</th>\n",
              "      <td>19.0</td>\n",
              "      <td>6.0</td>\n",
              "      <td>232.0</td>\n",
              "      <td>100.0</td>\n",
              "      <td>2634.0</td>\n",
              "      <td>13.0</td>\n",
              "      <td>71.0</td>\n",
              "      <td>1</td>\n",
              "      <td>0</td>\n",
              "      <td>0</td>\n",
              "    </tr>\n",
              "  </tbody>\n",
              "</table>\n",
              "</div>"
            ],
            "text/plain": [
              "     mpg  cylinders  ...  country_of_origin_2.0  country_of_origin_3.0\n",
              "9   15.0        8.0  ...                      0                      0\n",
              "31  10.0        8.0  ...                      0                      0\n",
              "34   9.0        8.0  ...                      0                      0\n",
              "37  25.0        4.0  ...                      0                      1\n",
              "40  19.0        6.0  ...                      0                      0\n",
              "\n",
              "[5 rows x 10 columns]"
            ]
          },
          "metadata": {
            "tags": []
          },
          "execution_count": 54
        }
      ]
    },
    {
      "cell_type": "code",
      "metadata": {
        "id": "Y2eKTdrw9Fzx",
        "colab_type": "code",
        "colab": {
          "base_uri": "https://localhost:8080/",
          "height": 221
        },
        "outputId": "1d06a764-7767-411b-c062-dafa3ede68af"
      },
      "source": [
        "#Label the output value in both training and test data-set\n",
        "train_label = dataset_V4_training.pop('mpg')\n",
        "test_label = dataset_V4_test.pop('mpg')\n",
        "#print(train_label)\n"
      ],
      "execution_count": 55,
      "outputs": [
        {
          "output_type": "stream",
          "text": [
            "153    28.0\n",
            "289    22.3\n",
            "76     12.0\n",
            "386    38.0\n",
            "338    33.8\n",
            "       ... \n",
            "288    19.8\n",
            "236    16.0\n",
            "157    26.0\n",
            "152    32.0\n",
            "189    28.0\n",
            "Name: mpg, Length: 314, dtype: float64\n"
          ],
          "name": "stdout"
        }
      ]
    },
    {
      "cell_type": "code",
      "metadata": {
        "id": "huEbP5bf-nw8",
        "colab_type": "code",
        "colab": {
          "base_uri": "https://localhost:8080/",
          "height": 328
        },
        "outputId": "aca5f743-d93c-4155-8dd4-5a5239700036"
      },
      "source": [
        "#Develop stats of the training and test data-sets\n",
        "training_stats = dataset_V4_training.describe()\n",
        "training_stats = training_stats.transpose()\n",
        "\n",
        "test_stats = dataset_V4_test.describe()\n",
        "test_stats = test_stats.transpose()\n",
        "test_stats"
      ],
      "execution_count": 83,
      "outputs": [
        {
          "output_type": "execute_result",
          "data": {
            "text/html": [
              "<div>\n",
              "<style scoped>\n",
              "    .dataframe tbody tr th:only-of-type {\n",
              "        vertical-align: middle;\n",
              "    }\n",
              "\n",
              "    .dataframe tbody tr th {\n",
              "        vertical-align: top;\n",
              "    }\n",
              "\n",
              "    .dataframe thead th {\n",
              "        text-align: right;\n",
              "    }\n",
              "</style>\n",
              "<table border=\"1\" class=\"dataframe\">\n",
              "  <thead>\n",
              "    <tr style=\"text-align: right;\">\n",
              "      <th></th>\n",
              "      <th>count</th>\n",
              "      <th>mean</th>\n",
              "      <th>std</th>\n",
              "      <th>min</th>\n",
              "      <th>25%</th>\n",
              "      <th>50%</th>\n",
              "      <th>75%</th>\n",
              "      <th>max</th>\n",
              "    </tr>\n",
              "  </thead>\n",
              "  <tbody>\n",
              "    <tr>\n",
              "      <th>cylinders</th>\n",
              "      <td>78.0</td>\n",
              "      <td>5.448718</td>\n",
              "      <td>1.740633</td>\n",
              "      <td>3.0</td>\n",
              "      <td>4.00</td>\n",
              "      <td>4.00</td>\n",
              "      <td>8.00</td>\n",
              "      <td>8.0</td>\n",
              "    </tr>\n",
              "    <tr>\n",
              "      <th>displacement</th>\n",
              "      <td>78.0</td>\n",
              "      <td>190.762821</td>\n",
              "      <td>106.494733</td>\n",
              "      <td>70.0</td>\n",
              "      <td>98.00</td>\n",
              "      <td>138.00</td>\n",
              "      <td>292.00</td>\n",
              "      <td>400.0</td>\n",
              "    </tr>\n",
              "    <tr>\n",
              "      <th>hp</th>\n",
              "      <td>78.0</td>\n",
              "      <td>102.858974</td>\n",
              "      <td>40.255265</td>\n",
              "      <td>48.0</td>\n",
              "      <td>74.25</td>\n",
              "      <td>90.00</td>\n",
              "      <td>121.75</td>\n",
              "      <td>230.0</td>\n",
              "    </tr>\n",
              "    <tr>\n",
              "      <th>weight</th>\n",
              "      <td>78.0</td>\n",
              "      <td>2926.589744</td>\n",
              "      <td>874.900416</td>\n",
              "      <td>1613.0</td>\n",
              "      <td>2159.50</td>\n",
              "      <td>2692.50</td>\n",
              "      <td>3706.50</td>\n",
              "      <td>4746.0</td>\n",
              "    </tr>\n",
              "    <tr>\n",
              "      <th>acceleration</th>\n",
              "      <td>78.0</td>\n",
              "      <td>15.469231</td>\n",
              "      <td>2.649298</td>\n",
              "      <td>8.5</td>\n",
              "      <td>13.70</td>\n",
              "      <td>15.25</td>\n",
              "      <td>17.00</td>\n",
              "      <td>22.2</td>\n",
              "    </tr>\n",
              "    <tr>\n",
              "      <th>MY</th>\n",
              "      <td>78.0</td>\n",
              "      <td>76.307692</td>\n",
              "      <td>3.721847</td>\n",
              "      <td>70.0</td>\n",
              "      <td>73.00</td>\n",
              "      <td>76.00</td>\n",
              "      <td>79.75</td>\n",
              "      <td>82.0</td>\n",
              "    </tr>\n",
              "    <tr>\n",
              "      <th>country_of_origin_1.0</th>\n",
              "      <td>78.0</td>\n",
              "      <td>0.628205</td>\n",
              "      <td>0.486412</td>\n",
              "      <td>0.0</td>\n",
              "      <td>0.00</td>\n",
              "      <td>1.00</td>\n",
              "      <td>1.00</td>\n",
              "      <td>1.0</td>\n",
              "    </tr>\n",
              "    <tr>\n",
              "      <th>country_of_origin_2.0</th>\n",
              "      <td>78.0</td>\n",
              "      <td>0.153846</td>\n",
              "      <td>0.363137</td>\n",
              "      <td>0.0</td>\n",
              "      <td>0.00</td>\n",
              "      <td>0.00</td>\n",
              "      <td>0.00</td>\n",
              "      <td>1.0</td>\n",
              "    </tr>\n",
              "    <tr>\n",
              "      <th>country_of_origin_3.0</th>\n",
              "      <td>78.0</td>\n",
              "      <td>0.217949</td>\n",
              "      <td>0.415525</td>\n",
              "      <td>0.0</td>\n",
              "      <td>0.00</td>\n",
              "      <td>0.00</td>\n",
              "      <td>0.00</td>\n",
              "      <td>1.0</td>\n",
              "    </tr>\n",
              "  </tbody>\n",
              "</table>\n",
              "</div>"
            ],
            "text/plain": [
              "                       count         mean         std  ...      50%      75%     max\n",
              "cylinders               78.0     5.448718    1.740633  ...     4.00     8.00     8.0\n",
              "displacement            78.0   190.762821  106.494733  ...   138.00   292.00   400.0\n",
              "hp                      78.0   102.858974   40.255265  ...    90.00   121.75   230.0\n",
              "weight                  78.0  2926.589744  874.900416  ...  2692.50  3706.50  4746.0\n",
              "acceleration            78.0    15.469231    2.649298  ...    15.25    17.00    22.2\n",
              "MY                      78.0    76.307692    3.721847  ...    76.00    79.75    82.0\n",
              "country_of_origin_1.0   78.0     0.628205    0.486412  ...     1.00     1.00     1.0\n",
              "country_of_origin_2.0   78.0     0.153846    0.363137  ...     0.00     0.00     1.0\n",
              "country_of_origin_3.0   78.0     0.217949    0.415525  ...     0.00     0.00     1.0\n",
              "\n",
              "[9 rows x 8 columns]"
            ]
          },
          "metadata": {
            "tags": []
          },
          "execution_count": 83
        }
      ]
    },
    {
      "cell_type": "code",
      "metadata": {
        "id": "NlRkxcH6-WJZ",
        "colab_type": "code",
        "colab": {}
      },
      "source": [
        "#Write a function to normalize the training and test data-set\n",
        "def norm_train(x):\n",
        "  return(x - training_stats['mean'])/(training_stats['std'])\n",
        "\n",
        "def norm_test(x):\n",
        "  return(x - test_stats['mean'])/(test_stats['std'])\n",
        "\n",
        "dataset_V5_training = norm_train(dataset_V4_training)\n",
        "dataset_V5_test = norm_test(dataset_V4_test)"
      ],
      "execution_count": 84,
      "outputs": []
    },
    {
      "cell_type": "code",
      "metadata": {
        "id": "lZ7_fCmLDpGp",
        "colab_type": "code",
        "colab": {
          "base_uri": "https://localhost:8080/",
          "height": 255
        },
        "outputId": "a03ee4fe-a08e-473a-aea1-c7dd54d42415"
      },
      "source": [
        "#Now comes the T-F flow\n",
        "model = tf.keras.Sequential([\n",
        "        tf.keras.layers.Dense(64,activation='relu',input_shape=[len(dataset_V5_training.keys())]),\n",
        "        tf.keras.layers.Dense(64,activation='relu'),\n",
        "        tf.keras.layers.Dense(1)                        \n",
        "])\n",
        "\n",
        "#Choose the optimizer\n",
        "optimizer = tf.keras.optimizers.Adam()\n",
        "\n",
        "#Compile model\n",
        "model.compile(loss='mse',\n",
        "              optimizer=optimizer,\n",
        "              metrics=['mae','mse'])\n",
        "model.summary()"
      ],
      "execution_count": 89,
      "outputs": [
        {
          "output_type": "stream",
          "text": [
            "Model: \"sequential_1\"\n",
            "_________________________________________________________________\n",
            "Layer (type)                 Output Shape              Param #   \n",
            "=================================================================\n",
            "dense_7 (Dense)              (None, 64)                640       \n",
            "_________________________________________________________________\n",
            "dense_8 (Dense)              (None, 64)                4160      \n",
            "_________________________________________________________________\n",
            "dense_9 (Dense)              (None, 1)                 65        \n",
            "=================================================================\n",
            "Total params: 4,865\n",
            "Trainable params: 4,865\n",
            "Non-trainable params: 0\n",
            "_________________________________________________________________\n"
          ],
          "name": "stdout"
        }
      ]
    },
    {
      "cell_type": "code",
      "metadata": {
        "id": "BCY5uChjIPkz",
        "colab_type": "code",
        "colab": {
          "base_uri": "https://localhost:8080/",
          "height": 1000
        },
        "outputId": "257c9e50-498a-453e-cb7d-b379cedbbddc"
      },
      "source": [
        "#Run the model\n",
        "EPOCHS = 1000\n",
        "early_stop = tf.keras.callbacks.EarlyStopping(monitor='val_loss',patience=10)\n",
        "history = model.fit(dataset_V5_training,train_label,epochs=EPOCHS, validation_split=0.20,callbacks=[early_stop],verbose=1)"
      ],
      "execution_count": 93,
      "outputs": [
        {
          "output_type": "stream",
          "text": [
            "Epoch 1/1000\n",
            "8/8 [==============================] - 0s 25ms/step - loss: 591.6714 - mae: 23.0511 - mse: 591.6714 - val_loss: 595.6995 - val_mae: 23.1293 - val_mse: 595.6995\n",
            "Epoch 2/1000\n",
            "8/8 [==============================] - 0s 5ms/step - loss: 559.4439 - mae: 22.3528 - mse: 559.4439 - val_loss: 558.4022 - val_mae: 22.3258 - val_mse: 558.4022\n",
            "Epoch 3/1000\n",
            "8/8 [==============================] - 0s 6ms/step - loss: 524.5913 - mae: 21.5815 - mse: 524.5913 - val_loss: 516.8524 - val_mae: 21.3887 - val_mse: 516.8524\n",
            "Epoch 4/1000\n",
            "8/8 [==============================] - 0s 5ms/step - loss: 484.1949 - mae: 20.6550 - mse: 484.1949 - val_loss: 468.3558 - val_mae: 20.2401 - val_mse: 468.3558\n",
            "Epoch 5/1000\n",
            "8/8 [==============================] - 0s 6ms/step - loss: 438.1196 - mae: 19.5136 - mse: 438.1196 - val_loss: 410.6508 - val_mae: 18.8028 - val_mse: 410.6508\n",
            "Epoch 6/1000\n",
            "8/8 [==============================] - 0s 5ms/step - loss: 381.8203 - mae: 18.0797 - mse: 381.8203 - val_loss: 346.2311 - val_mae: 17.0599 - val_mse: 346.2311\n",
            "Epoch 7/1000\n",
            "8/8 [==============================] - 0s 6ms/step - loss: 319.8489 - mae: 16.3506 - mse: 319.8489 - val_loss: 275.9482 - val_mae: 14.9490 - val_mse: 275.9482\n",
            "Epoch 8/1000\n",
            "8/8 [==============================] - 0s 6ms/step - loss: 253.2141 - mae: 14.2827 - mse: 253.2141 - val_loss: 203.9061 - val_mae: 12.5874 - val_mse: 203.9061\n",
            "Epoch 9/1000\n",
            "8/8 [==============================] - 0s 5ms/step - loss: 184.0270 - mae: 12.0154 - mse: 184.0270 - val_loss: 139.4245 - val_mae: 10.1758 - val_mse: 139.4245\n",
            "Epoch 10/1000\n",
            "8/8 [==============================] - 0s 5ms/step - loss: 126.8813 - mae: 9.6740 - mse: 126.8813 - val_loss: 86.7988 - val_mae: 7.9789 - val_mse: 86.7988\n",
            "Epoch 11/1000\n",
            "8/8 [==============================] - 0s 5ms/step - loss: 78.8298 - mae: 7.3035 - mse: 78.8298 - val_loss: 54.5913 - val_mae: 6.3811 - val_mse: 54.5913\n",
            "Epoch 12/1000\n",
            "8/8 [==============================] - 0s 5ms/step - loss: 50.6026 - mae: 5.6082 - mse: 50.6026 - val_loss: 40.3374 - val_mae: 5.3798 - val_mse: 40.3374\n",
            "Epoch 13/1000\n",
            "8/8 [==============================] - 0s 5ms/step - loss: 36.6508 - mae: 4.7661 - mse: 36.6508 - val_loss: 36.0991 - val_mae: 4.9155 - val_mse: 36.0991\n",
            "Epoch 14/1000\n",
            "8/8 [==============================] - 0s 5ms/step - loss: 30.1151 - mae: 4.3972 - mse: 30.1151 - val_loss: 33.4793 - val_mae: 4.6119 - val_mse: 33.4793\n",
            "Epoch 15/1000\n",
            "8/8 [==============================] - 0s 6ms/step - loss: 26.8036 - mae: 4.1415 - mse: 26.8036 - val_loss: 29.9498 - val_mae: 4.3168 - val_mse: 29.9498\n",
            "Epoch 16/1000\n",
            "8/8 [==============================] - 0s 6ms/step - loss: 23.5398 - mae: 3.8542 - mse: 23.5398 - val_loss: 25.9948 - val_mae: 4.0243 - val_mse: 25.9948\n",
            "Epoch 17/1000\n",
            "8/8 [==============================] - 0s 5ms/step - loss: 20.6964 - mae: 3.6080 - mse: 20.6964 - val_loss: 23.4157 - val_mae: 3.8049 - val_mse: 23.4157\n",
            "Epoch 18/1000\n",
            "8/8 [==============================] - 0s 6ms/step - loss: 18.8528 - mae: 3.3974 - mse: 18.8528 - val_loss: 21.6329 - val_mae: 3.6879 - val_mse: 21.6329\n",
            "Epoch 19/1000\n",
            "8/8 [==============================] - 0s 5ms/step - loss: 17.6040 - mae: 3.2730 - mse: 17.6040 - val_loss: 20.1516 - val_mae: 3.5916 - val_mse: 20.1516\n",
            "Epoch 20/1000\n",
            "8/8 [==============================] - 0s 5ms/step - loss: 16.5468 - mae: 3.1575 - mse: 16.5468 - val_loss: 18.9339 - val_mae: 3.4645 - val_mse: 18.9339\n",
            "Epoch 21/1000\n",
            "8/8 [==============================] - 0s 5ms/step - loss: 15.5891 - mae: 3.0572 - mse: 15.5891 - val_loss: 17.9086 - val_mae: 3.3724 - val_mse: 17.9086\n",
            "Epoch 22/1000\n",
            "8/8 [==============================] - 0s 5ms/step - loss: 14.8709 - mae: 2.9778 - mse: 14.8709 - val_loss: 17.0053 - val_mae: 3.2914 - val_mse: 17.0053\n",
            "Epoch 23/1000\n",
            "8/8 [==============================] - 0s 5ms/step - loss: 14.1938 - mae: 2.8954 - mse: 14.1938 - val_loss: 16.2118 - val_mae: 3.2040 - val_mse: 16.2118\n",
            "Epoch 24/1000\n",
            "8/8 [==============================] - 0s 5ms/step - loss: 13.6369 - mae: 2.8340 - mse: 13.6369 - val_loss: 15.4315 - val_mae: 3.1062 - val_mse: 15.4315\n",
            "Epoch 25/1000\n",
            "8/8 [==============================] - 0s 5ms/step - loss: 13.0956 - mae: 2.7664 - mse: 13.0956 - val_loss: 14.6673 - val_mae: 3.0411 - val_mse: 14.6673\n",
            "Epoch 26/1000\n",
            "8/8 [==============================] - 0s 5ms/step - loss: 12.6573 - mae: 2.7065 - mse: 12.6573 - val_loss: 14.1097 - val_mae: 2.9756 - val_mse: 14.1097\n",
            "Epoch 27/1000\n",
            "8/8 [==============================] - 0s 6ms/step - loss: 12.2295 - mae: 2.6521 - mse: 12.2295 - val_loss: 13.6310 - val_mae: 2.9295 - val_mse: 13.6310\n",
            "Epoch 28/1000\n",
            "8/8 [==============================] - 0s 5ms/step - loss: 11.8925 - mae: 2.6020 - mse: 11.8925 - val_loss: 13.1691 - val_mae: 2.8740 - val_mse: 13.1691\n",
            "Epoch 29/1000\n",
            "8/8 [==============================] - 0s 5ms/step - loss: 11.5417 - mae: 2.5497 - mse: 11.5417 - val_loss: 12.7256 - val_mae: 2.8183 - val_mse: 12.7256\n",
            "Epoch 30/1000\n",
            "8/8 [==============================] - 0s 5ms/step - loss: 11.2435 - mae: 2.5043 - mse: 11.2435 - val_loss: 12.3764 - val_mae: 2.7777 - val_mse: 12.3764\n",
            "Epoch 31/1000\n",
            "8/8 [==============================] - 0s 5ms/step - loss: 10.9930 - mae: 2.4712 - mse: 10.9930 - val_loss: 12.0782 - val_mae: 2.7395 - val_mse: 12.0782\n",
            "Epoch 32/1000\n",
            "8/8 [==============================] - 0s 5ms/step - loss: 10.7029 - mae: 2.4330 - mse: 10.7029 - val_loss: 11.8044 - val_mae: 2.7059 - val_mse: 11.8044\n",
            "Epoch 33/1000\n",
            "8/8 [==============================] - 0s 5ms/step - loss: 10.5326 - mae: 2.4031 - mse: 10.5326 - val_loss: 11.6156 - val_mae: 2.6927 - val_mse: 11.6156\n",
            "Epoch 34/1000\n",
            "8/8 [==============================] - 0s 5ms/step - loss: 10.2827 - mae: 2.3606 - mse: 10.2827 - val_loss: 11.3840 - val_mae: 2.6697 - val_mse: 11.3840\n",
            "Epoch 35/1000\n",
            "8/8 [==============================] - 0s 5ms/step - loss: 10.0776 - mae: 2.3305 - mse: 10.0776 - val_loss: 11.1720 - val_mae: 2.6337 - val_mse: 11.1720\n",
            "Epoch 36/1000\n",
            "8/8 [==============================] - 0s 5ms/step - loss: 9.9864 - mae: 2.3175 - mse: 9.9864 - val_loss: 10.9561 - val_mae: 2.5916 - val_mse: 10.9561\n",
            "Epoch 37/1000\n",
            "8/8 [==============================] - 0s 7ms/step - loss: 9.7302 - mae: 2.2801 - mse: 9.7302 - val_loss: 10.7955 - val_mae: 2.5776 - val_mse: 10.7955\n",
            "Epoch 38/1000\n",
            "8/8 [==============================] - 0s 5ms/step - loss: 9.6142 - mae: 2.2596 - mse: 9.6142 - val_loss: 10.6714 - val_mae: 2.5755 - val_mse: 10.6714\n",
            "Epoch 39/1000\n",
            "8/8 [==============================] - 0s 6ms/step - loss: 9.4649 - mae: 2.2310 - mse: 9.4649 - val_loss: 10.5296 - val_mae: 2.5599 - val_mse: 10.5296\n",
            "Epoch 40/1000\n",
            "8/8 [==============================] - 0s 5ms/step - loss: 9.3207 - mae: 2.2072 - mse: 9.3207 - val_loss: 10.3687 - val_mae: 2.5407 - val_mse: 10.3687\n",
            "Epoch 41/1000\n",
            "8/8 [==============================] - 0s 5ms/step - loss: 9.2078 - mae: 2.1919 - mse: 9.2078 - val_loss: 10.2685 - val_mae: 2.5155 - val_mse: 10.2685\n",
            "Epoch 42/1000\n",
            "8/8 [==============================] - 0s 5ms/step - loss: 9.0897 - mae: 2.1790 - mse: 9.0897 - val_loss: 10.1569 - val_mae: 2.5114 - val_mse: 10.1569\n",
            "Epoch 43/1000\n",
            "8/8 [==============================] - 0s 6ms/step - loss: 8.9788 - mae: 2.1584 - mse: 8.9788 - val_loss: 9.9755 - val_mae: 2.4963 - val_mse: 9.9755\n",
            "Epoch 44/1000\n",
            "8/8 [==============================] - 0s 5ms/step - loss: 8.9024 - mae: 2.1497 - mse: 8.9024 - val_loss: 9.8925 - val_mae: 2.4794 - val_mse: 9.8925\n",
            "Epoch 45/1000\n",
            "8/8 [==============================] - 0s 5ms/step - loss: 8.7807 - mae: 2.1314 - mse: 8.7807 - val_loss: 9.8715 - val_mae: 2.4828 - val_mse: 9.8715\n",
            "Epoch 46/1000\n",
            "8/8 [==============================] - 0s 6ms/step - loss: 8.6898 - mae: 2.1132 - mse: 8.6898 - val_loss: 9.7789 - val_mae: 2.4686 - val_mse: 9.7789\n",
            "Epoch 47/1000\n",
            "8/8 [==============================] - 0s 5ms/step - loss: 8.5860 - mae: 2.0991 - mse: 8.5860 - val_loss: 9.7008 - val_mae: 2.4600 - val_mse: 9.7008\n",
            "Epoch 48/1000\n",
            "8/8 [==============================] - 0s 5ms/step - loss: 8.4956 - mae: 2.0869 - mse: 8.4956 - val_loss: 9.5919 - val_mae: 2.4396 - val_mse: 9.5919\n",
            "Epoch 49/1000\n",
            "8/8 [==============================] - 0s 5ms/step - loss: 8.4328 - mae: 2.0798 - mse: 8.4328 - val_loss: 9.5215 - val_mae: 2.4316 - val_mse: 9.5215\n",
            "Epoch 50/1000\n",
            "8/8 [==============================] - 0s 5ms/step - loss: 8.3391 - mae: 2.0652 - mse: 8.3391 - val_loss: 9.4470 - val_mae: 2.4320 - val_mse: 9.4470\n",
            "Epoch 51/1000\n",
            "8/8 [==============================] - 0s 5ms/step - loss: 8.2671 - mae: 2.0500 - mse: 8.2671 - val_loss: 9.3487 - val_mae: 2.4237 - val_mse: 9.3487\n",
            "Epoch 52/1000\n",
            "8/8 [==============================] - 0s 5ms/step - loss: 8.2078 - mae: 2.0447 - mse: 8.2078 - val_loss: 9.3011 - val_mae: 2.4093 - val_mse: 9.3011\n",
            "Epoch 53/1000\n",
            "8/8 [==============================] - 0s 5ms/step - loss: 8.1204 - mae: 2.0351 - mse: 8.1204 - val_loss: 9.2293 - val_mae: 2.3968 - val_mse: 9.2293\n",
            "Epoch 54/1000\n",
            "8/8 [==============================] - 0s 6ms/step - loss: 8.0627 - mae: 2.0280 - mse: 8.0627 - val_loss: 9.1881 - val_mae: 2.3838 - val_mse: 9.1881\n",
            "Epoch 55/1000\n",
            "8/8 [==============================] - 0s 7ms/step - loss: 8.0182 - mae: 2.0259 - mse: 8.0182 - val_loss: 9.1663 - val_mae: 2.3812 - val_mse: 9.1663\n",
            "Epoch 56/1000\n",
            "8/8 [==============================] - 0s 6ms/step - loss: 7.9471 - mae: 2.0136 - mse: 7.9471 - val_loss: 9.1205 - val_mae: 2.3771 - val_mse: 9.1205\n",
            "Epoch 57/1000\n",
            "8/8 [==============================] - 0s 5ms/step - loss: 7.9057 - mae: 2.0016 - mse: 7.9057 - val_loss: 9.0724 - val_mae: 2.3719 - val_mse: 9.0724\n",
            "Epoch 58/1000\n",
            "8/8 [==============================] - 0s 5ms/step - loss: 7.8355 - mae: 1.9941 - mse: 7.8355 - val_loss: 9.0105 - val_mae: 2.3512 - val_mse: 9.0105\n",
            "Epoch 59/1000\n",
            "8/8 [==============================] - 0s 5ms/step - loss: 7.7852 - mae: 1.9896 - mse: 7.7852 - val_loss: 8.9563 - val_mae: 2.3439 - val_mse: 8.9563\n",
            "Epoch 60/1000\n",
            "8/8 [==============================] - 0s 5ms/step - loss: 7.7238 - mae: 1.9838 - mse: 7.7238 - val_loss: 8.9180 - val_mae: 2.3461 - val_mse: 8.9180\n",
            "Epoch 61/1000\n",
            "8/8 [==============================] - 0s 5ms/step - loss: 7.7097 - mae: 1.9735 - mse: 7.7097 - val_loss: 8.9072 - val_mae: 2.3511 - val_mse: 8.9072\n",
            "Epoch 62/1000\n",
            "8/8 [==============================] - 0s 5ms/step - loss: 7.6274 - mae: 1.9637 - mse: 7.6274 - val_loss: 8.8585 - val_mae: 2.3361 - val_mse: 8.8585\n",
            "Epoch 63/1000\n",
            "8/8 [==============================] - 0s 6ms/step - loss: 7.5699 - mae: 1.9570 - mse: 7.5699 - val_loss: 8.7823 - val_mae: 2.3210 - val_mse: 8.7823\n",
            "Epoch 64/1000\n",
            "8/8 [==============================] - 0s 5ms/step - loss: 7.5520 - mae: 1.9570 - mse: 7.5520 - val_loss: 8.7835 - val_mae: 2.3172 - val_mse: 8.7835\n",
            "Epoch 65/1000\n",
            "8/8 [==============================] - 0s 6ms/step - loss: 7.5002 - mae: 1.9519 - mse: 7.5002 - val_loss: 8.7920 - val_mae: 2.3286 - val_mse: 8.7920\n",
            "Epoch 66/1000\n",
            "8/8 [==============================] - 0s 6ms/step - loss: 7.4412 - mae: 1.9392 - mse: 7.4412 - val_loss: 8.7550 - val_mae: 2.3150 - val_mse: 8.7550\n",
            "Epoch 67/1000\n",
            "8/8 [==============================] - 0s 5ms/step - loss: 7.4008 - mae: 1.9316 - mse: 7.4008 - val_loss: 8.6910 - val_mae: 2.3092 - val_mse: 8.6910\n",
            "Epoch 68/1000\n",
            "8/8 [==============================] - 0s 5ms/step - loss: 7.3560 - mae: 1.9248 - mse: 7.3560 - val_loss: 8.6666 - val_mae: 2.3041 - val_mse: 8.6666\n",
            "Epoch 69/1000\n",
            "8/8 [==============================] - 0s 6ms/step - loss: 7.3176 - mae: 1.9226 - mse: 7.3176 - val_loss: 8.6752 - val_mae: 2.3023 - val_mse: 8.6752\n",
            "Epoch 70/1000\n",
            "8/8 [==============================] - 0s 5ms/step - loss: 7.2741 - mae: 1.9142 - mse: 7.2741 - val_loss: 8.6261 - val_mae: 2.2925 - val_mse: 8.6261\n",
            "Epoch 71/1000\n",
            "8/8 [==============================] - 0s 5ms/step - loss: 7.2308 - mae: 1.9111 - mse: 7.2308 - val_loss: 8.5581 - val_mae: 2.2834 - val_mse: 8.5581\n",
            "Epoch 72/1000\n",
            "8/8 [==============================] - 0s 5ms/step - loss: 7.2073 - mae: 1.9071 - mse: 7.2073 - val_loss: 8.5125 - val_mae: 2.2873 - val_mse: 8.5125\n",
            "Epoch 73/1000\n",
            "8/8 [==============================] - 0s 5ms/step - loss: 7.1755 - mae: 1.9024 - mse: 7.1755 - val_loss: 8.5503 - val_mae: 2.2761 - val_mse: 8.5503\n",
            "Epoch 74/1000\n",
            "8/8 [==============================] - 0s 5ms/step - loss: 7.1178 - mae: 1.8970 - mse: 7.1178 - val_loss: 8.4928 - val_mae: 2.2776 - val_mse: 8.4928\n",
            "Epoch 75/1000\n",
            "8/8 [==============================] - 0s 7ms/step - loss: 7.1066 - mae: 1.8970 - mse: 7.1066 - val_loss: 8.5594 - val_mae: 2.2828 - val_mse: 8.5594\n",
            "Epoch 76/1000\n",
            "8/8 [==============================] - 0s 5ms/step - loss: 7.0667 - mae: 1.8881 - mse: 7.0667 - val_loss: 8.5111 - val_mae: 2.2797 - val_mse: 8.5111\n",
            "Epoch 77/1000\n",
            "8/8 [==============================] - 0s 5ms/step - loss: 7.0434 - mae: 1.8768 - mse: 7.0434 - val_loss: 8.5178 - val_mae: 2.2701 - val_mse: 8.5178\n",
            "Epoch 78/1000\n",
            "8/8 [==============================] - 0s 5ms/step - loss: 7.0018 - mae: 1.8782 - mse: 7.0018 - val_loss: 8.4901 - val_mae: 2.2594 - val_mse: 8.4901\n",
            "Epoch 79/1000\n",
            "8/8 [==============================] - 0s 6ms/step - loss: 7.0372 - mae: 1.8769 - mse: 7.0372 - val_loss: 8.4347 - val_mae: 2.2654 - val_mse: 8.4347\n",
            "Epoch 80/1000\n",
            "8/8 [==============================] - 0s 6ms/step - loss: 6.9835 - mae: 1.8763 - mse: 6.9835 - val_loss: 8.3979 - val_mae: 2.2330 - val_mse: 8.3979\n",
            "Epoch 81/1000\n",
            "8/8 [==============================] - 0s 6ms/step - loss: 6.9119 - mae: 1.8751 - mse: 6.9119 - val_loss: 8.3659 - val_mae: 2.2455 - val_mse: 8.3659\n",
            "Epoch 82/1000\n",
            "8/8 [==============================] - 0s 5ms/step - loss: 6.8763 - mae: 1.8634 - mse: 6.8763 - val_loss: 8.3569 - val_mae: 2.2406 - val_mse: 8.3569\n",
            "Epoch 83/1000\n",
            "8/8 [==============================] - 0s 6ms/step - loss: 6.8382 - mae: 1.8592 - mse: 6.8382 - val_loss: 8.3583 - val_mae: 2.2475 - val_mse: 8.3583\n",
            "Epoch 84/1000\n",
            "8/8 [==============================] - 0s 6ms/step - loss: 6.8092 - mae: 1.8511 - mse: 6.8092 - val_loss: 8.3216 - val_mae: 2.2418 - val_mse: 8.3216\n",
            "Epoch 85/1000\n",
            "8/8 [==============================] - 0s 6ms/step - loss: 6.7878 - mae: 1.8505 - mse: 6.7878 - val_loss: 8.3447 - val_mae: 2.2310 - val_mse: 8.3447\n",
            "Epoch 86/1000\n",
            "8/8 [==============================] - 0s 6ms/step - loss: 6.7603 - mae: 1.8419 - mse: 6.7603 - val_loss: 8.3196 - val_mae: 2.2343 - val_mse: 8.3196\n",
            "Epoch 87/1000\n",
            "8/8 [==============================] - 0s 5ms/step - loss: 6.7618 - mae: 1.8397 - mse: 6.7618 - val_loss: 8.3653 - val_mae: 2.2238 - val_mse: 8.3653\n",
            "Epoch 88/1000\n",
            "8/8 [==============================] - 0s 5ms/step - loss: 6.7184 - mae: 1.8377 - mse: 6.7184 - val_loss: 8.3491 - val_mae: 2.2195 - val_mse: 8.3491\n",
            "Epoch 89/1000\n",
            "8/8 [==============================] - 0s 5ms/step - loss: 6.7067 - mae: 1.8325 - mse: 6.7067 - val_loss: 8.3371 - val_mae: 2.2157 - val_mse: 8.3371\n",
            "Epoch 90/1000\n",
            "8/8 [==============================] - 0s 5ms/step - loss: 6.6482 - mae: 1.8278 - mse: 6.6482 - val_loss: 8.3135 - val_mae: 2.2104 - val_mse: 8.3135\n",
            "Epoch 91/1000\n",
            "8/8 [==============================] - 0s 5ms/step - loss: 6.6586 - mae: 1.8247 - mse: 6.6586 - val_loss: 8.2888 - val_mae: 2.2248 - val_mse: 8.2888\n",
            "Epoch 92/1000\n",
            "8/8 [==============================] - 0s 5ms/step - loss: 6.6283 - mae: 1.8159 - mse: 6.6283 - val_loss: 8.2205 - val_mae: 2.2120 - val_mse: 8.2205\n",
            "Epoch 93/1000\n",
            "8/8 [==============================] - 0s 5ms/step - loss: 6.6461 - mae: 1.8243 - mse: 6.6461 - val_loss: 8.2334 - val_mae: 2.2028 - val_mse: 8.2334\n",
            "Epoch 94/1000\n",
            "8/8 [==============================] - 0s 7ms/step - loss: 6.5866 - mae: 1.8139 - mse: 6.5866 - val_loss: 8.2413 - val_mae: 2.2042 - val_mse: 8.2413\n",
            "Epoch 95/1000\n",
            "8/8 [==============================] - 0s 5ms/step - loss: 6.5819 - mae: 1.8072 - mse: 6.5819 - val_loss: 8.2745 - val_mae: 2.2181 - val_mse: 8.2745\n",
            "Epoch 96/1000\n",
            "8/8 [==============================] - 0s 6ms/step - loss: 6.5177 - mae: 1.7957 - mse: 6.5177 - val_loss: 8.2796 - val_mae: 2.1983 - val_mse: 8.2796\n",
            "Epoch 97/1000\n",
            "8/8 [==============================] - 0s 6ms/step - loss: 6.5294 - mae: 1.8074 - mse: 6.5294 - val_loss: 8.2998 - val_mae: 2.1847 - val_mse: 8.2998\n",
            "Epoch 98/1000\n",
            "8/8 [==============================] - 0s 5ms/step - loss: 6.4965 - mae: 1.8016 - mse: 6.4965 - val_loss: 8.2645 - val_mae: 2.1942 - val_mse: 8.2645\n",
            "Epoch 99/1000\n",
            "8/8 [==============================] - 0s 5ms/step - loss: 6.4671 - mae: 1.7979 - mse: 6.4671 - val_loss: 8.2116 - val_mae: 2.1951 - val_mse: 8.2116\n",
            "Epoch 100/1000\n",
            "8/8 [==============================] - 0s 5ms/step - loss: 6.4656 - mae: 1.7930 - mse: 6.4656 - val_loss: 8.2537 - val_mae: 2.1983 - val_mse: 8.2537\n",
            "Epoch 101/1000\n",
            "8/8 [==============================] - 0s 5ms/step - loss: 6.4220 - mae: 1.7827 - mse: 6.4220 - val_loss: 8.1693 - val_mae: 2.1959 - val_mse: 8.1693\n",
            "Epoch 102/1000\n",
            "8/8 [==============================] - 0s 6ms/step - loss: 6.4226 - mae: 1.7834 - mse: 6.4226 - val_loss: 8.1647 - val_mae: 2.1982 - val_mse: 8.1647\n",
            "Epoch 103/1000\n",
            "8/8 [==============================] - 0s 5ms/step - loss: 6.3866 - mae: 1.7811 - mse: 6.3866 - val_loss: 8.2384 - val_mae: 2.1827 - val_mse: 8.2384\n",
            "Epoch 104/1000\n",
            "8/8 [==============================] - 0s 6ms/step - loss: 6.3571 - mae: 1.7751 - mse: 6.3571 - val_loss: 8.2125 - val_mae: 2.1933 - val_mse: 8.2125\n",
            "Epoch 105/1000\n",
            "8/8 [==============================] - 0s 5ms/step - loss: 6.3435 - mae: 1.7668 - mse: 6.3435 - val_loss: 8.2592 - val_mae: 2.2027 - val_mse: 8.2592\n",
            "Epoch 106/1000\n",
            "8/8 [==============================] - 0s 5ms/step - loss: 6.3167 - mae: 1.7646 - mse: 6.3167 - val_loss: 8.2494 - val_mae: 2.1818 - val_mse: 8.2494\n",
            "Epoch 107/1000\n",
            "8/8 [==============================] - 0s 6ms/step - loss: 6.3112 - mae: 1.7623 - mse: 6.3112 - val_loss: 8.2190 - val_mae: 2.1905 - val_mse: 8.2190\n",
            "Epoch 108/1000\n",
            "8/8 [==============================] - 0s 5ms/step - loss: 6.3320 - mae: 1.7692 - mse: 6.3320 - val_loss: 8.1783 - val_mae: 2.1860 - val_mse: 8.1783\n",
            "Epoch 109/1000\n",
            "8/8 [==============================] - 0s 5ms/step - loss: 6.2960 - mae: 1.7605 - mse: 6.2960 - val_loss: 8.2487 - val_mae: 2.1964 - val_mse: 8.2487\n",
            "Epoch 110/1000\n",
            "8/8 [==============================] - 0s 6ms/step - loss: 6.2520 - mae: 1.7511 - mse: 6.2520 - val_loss: 8.2393 - val_mae: 2.1901 - val_mse: 8.2393\n",
            "Epoch 111/1000\n",
            "8/8 [==============================] - 0s 5ms/step - loss: 6.2617 - mae: 1.7586 - mse: 6.2617 - val_loss: 8.2008 - val_mae: 2.1651 - val_mse: 8.2008\n",
            "Epoch 112/1000\n",
            "8/8 [==============================] - 0s 5ms/step - loss: 6.2260 - mae: 1.7546 - mse: 6.2260 - val_loss: 8.1598 - val_mae: 2.1843 - val_mse: 8.1598\n",
            "Epoch 113/1000\n",
            "8/8 [==============================] - 0s 6ms/step - loss: 6.2016 - mae: 1.7443 - mse: 6.2016 - val_loss: 8.2243 - val_mae: 2.1931 - val_mse: 8.2243\n",
            "Epoch 114/1000\n",
            "8/8 [==============================] - 0s 5ms/step - loss: 6.2062 - mae: 1.7459 - mse: 6.2062 - val_loss: 8.1625 - val_mae: 2.1838 - val_mse: 8.1625\n",
            "Epoch 115/1000\n",
            "8/8 [==============================] - 0s 6ms/step - loss: 6.2082 - mae: 1.7397 - mse: 6.2082 - val_loss: 8.1968 - val_mae: 2.2015 - val_mse: 8.1968\n",
            "Epoch 116/1000\n",
            "8/8 [==============================] - 0s 5ms/step - loss: 6.1925 - mae: 1.7393 - mse: 6.1925 - val_loss: 8.1722 - val_mae: 2.1756 - val_mse: 8.1722\n",
            "Epoch 117/1000\n",
            "8/8 [==============================] - 0s 7ms/step - loss: 6.1661 - mae: 1.7402 - mse: 6.1661 - val_loss: 8.1938 - val_mae: 2.1796 - val_mse: 8.1938\n",
            "Epoch 118/1000\n",
            "8/8 [==============================] - 0s 6ms/step - loss: 6.1544 - mae: 1.7336 - mse: 6.1544 - val_loss: 8.2182 - val_mae: 2.1855 - val_mse: 8.2182\n",
            "Epoch 119/1000\n",
            "8/8 [==============================] - 0s 6ms/step - loss: 6.1674 - mae: 1.7372 - mse: 6.1674 - val_loss: 8.2022 - val_mae: 2.1919 - val_mse: 8.2022\n",
            "Epoch 120/1000\n",
            "8/8 [==============================] - 0s 5ms/step - loss: 6.1220 - mae: 1.7221 - mse: 6.1220 - val_loss: 8.1718 - val_mae: 2.1894 - val_mse: 8.1718\n",
            "Epoch 121/1000\n",
            "8/8 [==============================] - 0s 6ms/step - loss: 6.0896 - mae: 1.7197 - mse: 6.0896 - val_loss: 8.2132 - val_mae: 2.1829 - val_mse: 8.2132\n",
            "Epoch 122/1000\n",
            "8/8 [==============================] - 0s 6ms/step - loss: 6.0857 - mae: 1.7277 - mse: 6.0857 - val_loss: 8.2558 - val_mae: 2.1649 - val_mse: 8.2558\n"
          ],
          "name": "stdout"
        }
      ]
    },
    {
      "cell_type": "code",
      "metadata": {
        "id": "FRVb6EcgJGkx",
        "colab_type": "code",
        "colab": {
          "base_uri": "https://localhost:8080/",
          "height": 204
        },
        "outputId": "b8307017-4561-4465-812f-d3d8d3a44f4a"
      },
      "source": [
        "#Model Evaluation\n",
        "hist = pd.DataFrame(history.history)\n",
        "hist['epoch'] = history.epoch\n",
        "hist.tail()"
      ],
      "execution_count": 94,
      "outputs": [
        {
          "output_type": "execute_result",
          "data": {
            "text/html": [
              "<div>\n",
              "<style scoped>\n",
              "    .dataframe tbody tr th:only-of-type {\n",
              "        vertical-align: middle;\n",
              "    }\n",
              "\n",
              "    .dataframe tbody tr th {\n",
              "        vertical-align: top;\n",
              "    }\n",
              "\n",
              "    .dataframe thead th {\n",
              "        text-align: right;\n",
              "    }\n",
              "</style>\n",
              "<table border=\"1\" class=\"dataframe\">\n",
              "  <thead>\n",
              "    <tr style=\"text-align: right;\">\n",
              "      <th></th>\n",
              "      <th>loss</th>\n",
              "      <th>mae</th>\n",
              "      <th>mse</th>\n",
              "      <th>val_loss</th>\n",
              "      <th>val_mae</th>\n",
              "      <th>val_mse</th>\n",
              "      <th>epoch</th>\n",
              "    </tr>\n",
              "  </thead>\n",
              "  <tbody>\n",
              "    <tr>\n",
              "      <th>117</th>\n",
              "      <td>6.154376</td>\n",
              "      <td>1.733557</td>\n",
              "      <td>6.154376</td>\n",
              "      <td>8.218233</td>\n",
              "      <td>2.185468</td>\n",
              "      <td>8.218233</td>\n",
              "      <td>117</td>\n",
              "    </tr>\n",
              "    <tr>\n",
              "      <th>118</th>\n",
              "      <td>6.167362</td>\n",
              "      <td>1.737235</td>\n",
              "      <td>6.167362</td>\n",
              "      <td>8.202200</td>\n",
              "      <td>2.191909</td>\n",
              "      <td>8.202201</td>\n",
              "      <td>118</td>\n",
              "    </tr>\n",
              "    <tr>\n",
              "      <th>119</th>\n",
              "      <td>6.121984</td>\n",
              "      <td>1.722058</td>\n",
              "      <td>6.121984</td>\n",
              "      <td>8.171807</td>\n",
              "      <td>2.189420</td>\n",
              "      <td>8.171808</td>\n",
              "      <td>119</td>\n",
              "    </tr>\n",
              "    <tr>\n",
              "      <th>120</th>\n",
              "      <td>6.089565</td>\n",
              "      <td>1.719664</td>\n",
              "      <td>6.089565</td>\n",
              "      <td>8.213232</td>\n",
              "      <td>2.182918</td>\n",
              "      <td>8.213232</td>\n",
              "      <td>120</td>\n",
              "    </tr>\n",
              "    <tr>\n",
              "      <th>121</th>\n",
              "      <td>6.085750</td>\n",
              "      <td>1.727696</td>\n",
              "      <td>6.085750</td>\n",
              "      <td>8.255772</td>\n",
              "      <td>2.164903</td>\n",
              "      <td>8.255771</td>\n",
              "      <td>121</td>\n",
              "    </tr>\n",
              "  </tbody>\n",
              "</table>\n",
              "</div>"
            ],
            "text/plain": [
              "         loss       mae       mse  val_loss   val_mae   val_mse  epoch\n",
              "117  6.154376  1.733557  6.154376  8.218233  2.185468  8.218233    117\n",
              "118  6.167362  1.737235  6.167362  8.202200  2.191909  8.202201    118\n",
              "119  6.121984  1.722058  6.121984  8.171807  2.189420  8.171808    119\n",
              "120  6.089565  1.719664  6.089565  8.213232  2.182918  8.213232    120\n",
              "121  6.085750  1.727696  6.085750  8.255772  2.164903  8.255771    121"
            ]
          },
          "metadata": {
            "tags": []
          },
          "execution_count": 94
        }
      ]
    },
    {
      "cell_type": "code",
      "metadata": {
        "id": "IHyV7z2-JkeN",
        "colab_type": "code",
        "colab": {
          "base_uri": "https://localhost:8080/",
          "height": 51
        },
        "outputId": "0650d46d-e883-45a9-ddc1-17040dca274b"
      },
      "source": [
        "#Model evaluate\n",
        "loss, mae, mse = model.evaluate(dataset_V5_test, test_label, verbose=2)\n",
        "print(\"MAE\", mae)\n"
      ],
      "execution_count": 97,
      "outputs": [
        {
          "output_type": "stream",
          "text": [
            "3/3 - 0s - loss: 5.8337 - mae: 1.8454 - mse: 5.8337\n",
            "MAE 1.845444679260254\n"
          ],
          "name": "stdout"
        }
      ]
    },
    {
      "cell_type": "code",
      "metadata": {
        "id": "v2l1Ah18J7EH",
        "colab_type": "code",
        "colab": {
          "base_uri": "https://localhost:8080/",
          "height": 279
        },
        "outputId": "71448753-8c6b-4424-c4e9-87da545f9246"
      },
      "source": [
        "#Model prediction and plotting\n",
        "#model predictions on test data\n",
        "test_predictions = model.predict(dataset_V5_test).flatten()\n",
        "\n",
        "plt.scatter(test_label, test_predictions)\n",
        "plt.xlabel('True Values [MPG]')\n",
        "plt.ylabel('Predictions [MPG]')\n",
        "plt.axis('equal')\n",
        "plt.axis('square')\n",
        "plt.xlim([0,plt.xlim()[1]])\n",
        "plt.ylim([0,plt.ylim()[1]])\n",
        "_ = plt.plot([-100, 100], [-100, 100])"
      ],
      "execution_count": 99,
      "outputs": [
        {
          "output_type": "display_data",
          "data": {
            "image/png": "[encoded data removed]",
            "text/plain": [
              "<Figure size 432x288 with 1 Axes>"
            ]
          },
          "metadata": {
            "tags": [],
            "needs_background": "light"
          }
        }
      ]
    },
    {
      "cell_type": "code",
      "metadata": {
        "id": "kTQbttW6KXLG",
        "colab_type": "code",
        "colab": {}
      },
      "source": [
        ""
      ],
      "execution_count": null,
      "outputs": []
    }
  ]
}